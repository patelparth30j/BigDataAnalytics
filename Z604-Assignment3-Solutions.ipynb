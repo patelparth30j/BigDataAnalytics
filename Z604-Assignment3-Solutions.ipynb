{
 "cells": [
  {
   "cell_type": "markdown",
   "metadata": {},
   "source": [
    "<center><h1>Z604 Assignment-3 Solutions : Parth Patel (pp20)</h1></center>"
   ]
  },
  {
   "cell_type": "markdown",
   "metadata": {
    "collapsed": false
   },
   "source": [
    "<h2>Importing the Reuters Dataset into a SFrame object</h2>"
   ]
  },
  {
   "cell_type": "code",
   "execution_count": 1,
   "metadata": {
    "collapsed": false
   },
   "outputs": [
    {
     "name": "stderr",
     "output_type": "stream",
     "text": [
      "2016-04-19 20:53:13,705 [INFO] graphlab.cython.cy_server, 176: GraphLab Create v1.8.5 started. Logging: /tmp/graphlab_server_1461113591.log\n"
     ]
    },
    {
     "data": {
      "text/html": [
       "<pre>Finished parsing file /Users/Parth/Desktop/Z604BigDataLab/assignment3/reuters.csv</pre>"
      ],
      "text/plain": [
       "Finished parsing file /Users/Parth/Desktop/Z604BigDataLab/assignment3/reuters.csv"
      ]
     },
     "metadata": {},
     "output_type": "display_data"
    },
    {
     "data": {
      "text/html": [
       "<pre>Parsing completed. Parsed 100 lines in 0.083798 secs.</pre>"
      ],
      "text/plain": [
       "Parsing completed. Parsed 100 lines in 0.083798 secs."
      ]
     },
     "metadata": {},
     "output_type": "display_data"
    },
    {
     "name": "stdout",
     "output_type": "stream",
     "text": [
      "This trial license of GraphLab Create is assigned to pp20@umail.iu.edu and will expire on April 28, 2016. Please contact trial@dato.com for licensing options or to request a free non-commercial license for personal or academic use.\n",
      "------------------------------------------------------"
     ]
    },
    {
     "data": {
      "text/html": [
       "<pre>Finished parsing file /Users/Parth/Desktop/Z604BigDataLab/assignment3/reuters.csv</pre>"
      ],
      "text/plain": [
       "Finished parsing file /Users/Parth/Desktop/Z604BigDataLab/assignment3/reuters.csv"
      ]
     },
     "metadata": {},
     "output_type": "display_data"
    },
    {
     "data": {
      "text/html": [
       "<pre>Parsing completed. Parsed 2286 lines in 0.093439 secs.</pre>"
      ],
      "text/plain": [
       "Parsing completed. Parsed 2286 lines in 0.093439 secs."
      ]
     },
     "metadata": {},
     "output_type": "display_data"
    },
    {
     "name": "stdout",
     "output_type": "stream",
     "text": [
      "\n",
      "Inferred types from first line of file as \n",
      "column_type_hints=[str,str]\n",
      "If parsing fails due to incorrect types, you can correct\n",
      "the inferred type list above and pass it to read_csv in\n",
      "the column_type_hints argument\n",
      "------------------------------------------------------\n"
     ]
    }
   ],
   "source": [
    "import os\n",
    "import graphlab\n",
    "sf = graphlab.SFrame.read_csv('/Users/Parth/Desktop/Z604BigDataLab/assignment3/reuters.csv', header=False)"
   ]
  },
  {
   "cell_type": "markdown",
   "metadata": {
    "collapsed": false
   },
   "source": [
    "<h2>Displaying Contents of SFrame</h2>"
   ]
  },
  {
   "cell_type": "code",
   "execution_count": 2,
   "metadata": {
    "collapsed": false
   },
   "outputs": [
    {
     "data": {
      "text/html": [
       "<div style=\"max-height:1000px;max-width:1500px;overflow:auto;\"><table frame=\"box\" rules=\"cols\">\n",
       "    <tr>\n",
       "        <th style=\"padding-left: 1em; padding-right: 1em; text-align: center\">X1</th>\n",
       "        <th style=\"padding-left: 1em; padding-right: 1em; text-align: center\">X2</th>\n",
       "    </tr>\n",
       "    <tr>\n",
       "        <td style=\"padding-left: 1em; padding-right: 1em; text-align: center; vertical-align: top\">ipi</td>\n",
       "        <td style=\"padding-left: 1em; padding-right: 1em; text-align: center; vertical-align: top\">French industrial<br>production rose a ...</td>\n",
       "    </tr>\n",
       "    <tr>\n",
       "        <td style=\"padding-left: 1em; padding-right: 1em; text-align: center; vertical-align: top\">ipi</td>\n",
       "        <td style=\"padding-left: 1em; padding-right: 1em; text-align: center; vertical-align: top\">UK Industrial production<br>rose a provisional 04 ...</td>\n",
       "    </tr>\n",
       "    <tr>\n",
       "        <td style=\"padding-left: 1em; padding-right: 1em; text-align: center; vertical-align: top\">ipi</td>\n",
       "        <td style=\"padding-left: 1em; padding-right: 1em; text-align: center; vertical-align: top\">Japans preliminary<br>industrial production ...</td>\n",
       "    </tr>\n",
       "    <tr>\n",
       "        <td style=\"padding-left: 1em; padding-right: 1em; text-align: center; vertical-align: top\">ipi</td>\n",
       "        <td style=\"padding-left: 1em; padding-right: 1em; text-align: center; vertical-align: top\">Japans industrial<br>production index base ...</td>\n",
       "    </tr>\n",
       "    <tr>\n",
       "        <td style=\"padding-left: 1em; padding-right: 1em; text-align: center; vertical-align: top\">ipi</td>\n",
       "        <td style=\"padding-left: 1em; padding-right: 1em; text-align: center; vertical-align: top\">The Soviet economy<br>recovered slightly last ...</td>\n",
       "    </tr>\n",
       "    <tr>\n",
       "        <td style=\"padding-left: 1em; padding-right: 1em; text-align: center; vertical-align: top\">ipi</td>\n",
       "        <td style=\"padding-left: 1em; padding-right: 1em; text-align: center; vertical-align: top\">British manufacturers<br>expect output to grow ...</td>\n",
       "    </tr>\n",
       "    <tr>\n",
       "        <td style=\"padding-left: 1em; padding-right: 1em; text-align: center; vertical-align: top\">ipi</td>\n",
       "        <td style=\"padding-left: 1em; padding-right: 1em; text-align: center; vertical-align: top\">Industrial output in<br>January was 609 pct a ...</td>\n",
       "    </tr>\n",
       "    <tr>\n",
       "        <td style=\"padding-left: 1em; padding-right: 1em; text-align: center; vertical-align: top\">ipi</td>\n",
       "        <td style=\"padding-left: 1em; padding-right: 1em; text-align: center; vertical-align: top\">The growth rate of<br>Brazilian industrial ...</td>\n",
       "    </tr>\n",
       "    <tr>\n",
       "        <td style=\"padding-left: 1em; padding-right: 1em; text-align: center; vertical-align: top\">ipi</td>\n",
       "        <td style=\"padding-left: 1em; padding-right: 1em; text-align: center; vertical-align: top\">Swiss industrial output<br>rose nine pct in the ...</td>\n",
       "    </tr>\n",
       "    <tr>\n",
       "        <td style=\"padding-left: 1em; padding-right: 1em; text-align: center; vertical-align: top\">ipi</td>\n",
       "        <td style=\"padding-left: 1em; padding-right: 1em; text-align: center; vertical-align: top\">Chinas industrial output<br>rose 141 pct in the f ...</td>\n",
       "    </tr>\n",
       "</table>\n",
       "[2286 rows x 2 columns]<br/>Note: Only the head of the SFrame is printed.<br/>You can use print_rows(num_rows=m, num_columns=n) to print more rows and columns.\n",
       "</div>"
      ],
      "text/plain": [
       "Columns:\n",
       "\tX1\tstr\n",
       "\tX2\tstr\n",
       "\n",
       "Rows: 2286\n",
       "\n",
       "Data:\n",
       "+-----+-------------------------------+\n",
       "|  X1 |               X2              |\n",
       "+-----+-------------------------------+\n",
       "| ipi | French industrial producti... |\n",
       "| ipi | UK Industrial production r... |\n",
       "| ipi | Japans preliminary industr... |\n",
       "| ipi | Japans industrial producti... |\n",
       "| ipi | The Soviet economy recover... |\n",
       "| ipi | British manufacturers expe... |\n",
       "| ipi | Industrial output in Janua... |\n",
       "| ipi | The growth rate of Brazili... |\n",
       "| ipi | Swiss industrial output ro... |\n",
       "| ipi | Chinas industrial output r... |\n",
       "+-----+-------------------------------+\n",
       "[2286 rows x 2 columns]\n",
       "Note: Only the head of the SFrame is printed.\n",
       "You can use print_rows(num_rows=m, num_columns=n) to print more rows and columns."
      ]
     },
     "execution_count": 2,
     "metadata": {},
     "output_type": "execute_result"
    }
   ],
   "source": [
    "sf\n"
   ]
  },
  {
   "cell_type": "markdown",
   "metadata": {},
   "source": [
    "<h2>Task-2: Generating Feature Space for each Document</h2>"
   ]
  },
  {
   "cell_type": "code",
   "execution_count": 3,
   "metadata": {
    "collapsed": false
   },
   "outputs": [],
   "source": [
    "sf['bow'] = graphlab.text_analytics.count_words(sf['X2'])\n"
   ]
  },
  {
   "cell_type": "code",
   "execution_count": 4,
   "metadata": {
    "collapsed": false
   },
   "outputs": [],
   "source": [
    "sf['tfidf'] = graphlab.text_analytics.tf_idf(sf['bow'])\n"
   ]
  },
  {
   "cell_type": "markdown",
   "metadata": {},
   "source": [
    "<h2>Task-1: Text Cleaning</h2>"
   ]
  },
  {
   "cell_type": "code",
   "execution_count": 5,
   "metadata": {
    "collapsed": false
   },
   "outputs": [],
   "source": [
    "docs = sf['bow'].dict_trim_by_values(2)\n"
   ]
  },
  {
   "cell_type": "code",
   "execution_count": 6,
   "metadata": {
    "collapsed": false
   },
   "outputs": [],
   "source": [
    "docs = docs.dict_trim_by_keys(graphlab.text_analytics.stopwords(), exclude=True)\n"
   ]
  },
  {
   "cell_type": "markdown",
   "metadata": {},
   "source": [
    "<h2>Displaying Contents of SFrame with two new features.</h2>"
   ]
  },
  {
   "cell_type": "code",
   "execution_count": 7,
   "metadata": {
    "collapsed": false
   },
   "outputs": [
    {
     "data": {
      "text/html": [
       "<div style=\"max-height:1000px;max-width:1500px;overflow:auto;\"><table frame=\"box\" rules=\"cols\">\n",
       "    <tr>\n",
       "        <th style=\"padding-left: 1em; padding-right: 1em; text-align: center\">X1</th>\n",
       "        <th style=\"padding-left: 1em; padding-right: 1em; text-align: center\">X2</th>\n",
       "        <th style=\"padding-left: 1em; padding-right: 1em; text-align: center\">bow</th>\n",
       "        <th style=\"padding-left: 1em; padding-right: 1em; text-align: center\">tfidf</th>\n",
       "    </tr>\n",
       "    <tr>\n",
       "        <td style=\"padding-left: 1em; padding-right: 1em; text-align: center; vertical-align: top\">ipi</td>\n",
       "        <td style=\"padding-left: 1em; padding-right: 1em; text-align: center; vertical-align: top\">French industrial<br>production rose a ...</td>\n",
       "        <td style=\"padding-left: 1em; padding-right: 1em; text-align: center; vertical-align: top\">{'and': 1, 'adjusted': 1,<br>'industrial': 1, '198': ...</td>\n",
       "        <td style=\"padding-left: 1em; padding-right: 1em; text-align: center; vertical-align: top\">{'and':<br>0.13967445713823656, ...</td>\n",
       "    </tr>\n",
       "    <tr>\n",
       "        <td style=\"padding-left: 1em; padding-right: 1em; text-align: center; vertical-align: top\">ipi</td>\n",
       "        <td style=\"padding-left: 1em; padding-right: 1em; text-align: center; vertical-align: top\">UK Industrial production<br>rose a provisional 04 ...</td>\n",
       "        <td style=\"padding-left: 1em; padding-right: 1em; text-align: center; vertical-align: top\">{'reuter': 1, 'office':<br>2, 'show': 1, '1264': 1, ...</td>\n",
       "        <td style=\"padding-left: 1em; padding-right: 1em; text-align: center; vertical-align: top\">{'reuter':<br>0.007023733879307705, ...</td>\n",
       "    </tr>\n",
       "    <tr>\n",
       "        <td style=\"padding-left: 1em; padding-right: 1em; text-align: center; vertical-align: top\">ipi</td>\n",
       "        <td style=\"padding-left: 1em; padding-right: 1em; text-align: center; vertical-align: top\">Japans preliminary<br>industrial production ...</td>\n",
       "        <td style=\"padding-left: 1em; padding-right: 1em; text-align: center; vertical-align: top\">{'and': 1, 'adjusted': 3,<br>'industrial': 1, 'from': ...</td>\n",
       "        <td style=\"padding-left: 1em; padding-right: 1em; text-align: center; vertical-align: top\">{'and':<br>0.13967445713823656, ...</td>\n",
       "    </tr>\n",
       "    <tr>\n",
       "        <td style=\"padding-left: 1em; padding-right: 1em; text-align: center; vertical-align: top\">ipi</td>\n",
       "        <td style=\"padding-left: 1em; padding-right: 1em; text-align: center; vertical-align: top\">Japans industrial<br>production index base ...</td>\n",
       "        <td style=\"padding-left: 1em; padding-right: 1em; text-align: center; vertical-align: top\">{'adjusted': 3, 'month':<br>2, 'previous': 1, ...</td>\n",
       "        <td style=\"padding-left: 1em; padding-right: 1em; text-align: center; vertical-align: top\">{'adjusted':<br>8.917154728671, 'month': ...</td>\n",
       "    </tr>\n",
       "    <tr>\n",
       "        <td style=\"padding-left: 1em; padding-right: 1em; text-align: center; vertical-align: top\">ipi</td>\n",
       "        <td style=\"padding-left: 1em; padding-right: 1em; text-align: center; vertical-align: top\">The Soviet economy<br>recovered slightly last ...</td>\n",
       "        <td style=\"padding-left: 1em; padding-right: 1em; text-align: center; vertical-align: top\">{'sector': 2, 'all': 1,<br>'show': 1, 'obligatio ...</td>\n",
       "        <td style=\"padding-left: 1em; padding-right: 1em; text-align: center; vertical-align: top\">{'sector':<br>6.1803358904267665, ...</td>\n",
       "    </tr>\n",
       "    <tr>\n",
       "        <td style=\"padding-left: 1em; padding-right: 1em; text-align: center; vertical-align: top\">ipi</td>\n",
       "        <td style=\"padding-left: 1em; padding-right: 1em; text-align: center; vertical-align: top\">British manufacturers<br>expect output to grow ...</td>\n",
       "        <td style=\"padding-left: 1em; padding-right: 1em; text-align: center; vertical-align: top\">{'rating': 1, 'all': 1,<br>'reuter': 1, 'consider': ...</td>\n",
       "        <td style=\"padding-left: 1em; padding-right: 1em; text-align: center; vertical-align: top\">{'rating':<br>6.348264483234865, 'a ...</td>\n",
       "    </tr>\n",
       "    <tr>\n",
       "        <td style=\"padding-left: 1em; padding-right: 1em; text-align: center; vertical-align: top\">ipi</td>\n",
       "        <td style=\"padding-left: 1em; padding-right: 1em; text-align: center; vertical-align: top\">Industrial output in<br>January was 609 pct a ...</td>\n",
       "        <td style=\"padding-left: 1em; padding-right: 1em; text-align: center; vertical-align: top\">{'and': 2, 'months': 3,<br>'show': 1, 'trend': 1, ...</td>\n",
       "        <td style=\"padding-left: 1em; padding-right: 1em; text-align: center; vertical-align: top\">{'and':<br>0.2793489142764731, ...</td>\n",
       "    </tr>\n",
       "    <tr>\n",
       "        <td style=\"padding-left: 1em; padding-right: 1em; text-align: center; vertical-align: top\">ipi</td>\n",
       "        <td style=\"padding-left: 1em; padding-right: 1em; text-align: center; vertical-align: top\">The growth rate of<br>Brazilian industrial ...</td>\n",
       "        <td style=\"padding-left: 1em; padding-right: 1em; text-align: center; vertical-align: top\">{'and': 2, 'months': 3,<br>'show': 1, 'trend': 1, ...</td>\n",
       "        <td style=\"padding-left: 1em; padding-right: 1em; text-align: center; vertical-align: top\">{'and':<br>0.2793489142764731, ...</td>\n",
       "    </tr>\n",
       "    <tr>\n",
       "        <td style=\"padding-left: 1em; padding-right: 1em; text-align: center; vertical-align: top\">ipi</td>\n",
       "        <td style=\"padding-left: 1em; padding-right: 1em; text-align: center; vertical-align: top\">Swiss industrial output<br>rose nine pct in the ...</td>\n",
       "        <td style=\"padding-left: 1em; padding-right: 1em; text-align: center; vertical-align: top\">{'and': 4, 'industrial':<br>1, 'incoming': 1, ...</td>\n",
       "        <td style=\"padding-left: 1em; padding-right: 1em; text-align: center; vertical-align: top\">{'and':<br>0.5586978285529463, ...</td>\n",
       "    </tr>\n",
       "    <tr>\n",
       "        <td style=\"padding-left: 1em; padding-right: 1em; text-align: center; vertical-align: top\">ipi</td>\n",
       "        <td style=\"padding-left: 1em; padding-right: 1em; text-align: center; vertical-align: top\">Chinas industrial output<br>rose 141 pct in the f ...</td>\n",
       "        <td style=\"padding-left: 1em; padding-right: 1em; text-align: center; vertical-align: top\">{'and': 1, 'seven': 1,<br>'industrial': 3, 'in' ...</td>\n",
       "        <td style=\"padding-left: 1em; padding-right: 1em; text-align: center; vertical-align: top\">{'and':<br>0.13967445713823656, ...</td>\n",
       "    </tr>\n",
       "</table>\n",
       "[2286 rows x 4 columns]<br/>Note: Only the head of the SFrame is printed.<br/>You can use print_rows(num_rows=m, num_columns=n) to print more rows and columns.\n",
       "</div>"
      ],
      "text/plain": [
       "Columns:\n",
       "\tX1\tstr\n",
       "\tX2\tstr\n",
       "\tbow\tdict\n",
       "\ttfidf\tdict\n",
       "\n",
       "Rows: 2286\n",
       "\n",
       "Data:\n",
       "+-----+-------------------------------+-------------------------------+\n",
       "|  X1 |               X2              |              bow              |\n",
       "+-----+-------------------------------+-------------------------------+\n",
       "| ipi | French industrial producti... | {'and': 1, 'adjusted': 1, ... |\n",
       "| ipi | UK Industrial production r... | {'reuter': 1, 'office': 2,... |\n",
       "| ipi | Japans preliminary industr... | {'and': 1, 'adjusted': 3, ... |\n",
       "| ipi | Japans industrial producti... | {'adjusted': 3, 'month': 2... |\n",
       "| ipi | The Soviet economy recover... | {'sector': 2, 'all': 1, 's... |\n",
       "| ipi | British manufacturers expe... | {'rating': 1, 'all': 1, 'r... |\n",
       "| ipi | Industrial output in Janua... | {'and': 2, 'months': 3, 's... |\n",
       "| ipi | The growth rate of Brazili... | {'and': 2, 'months': 3, 's... |\n",
       "| ipi | Swiss industrial output ro... | {'and': 4, 'industrial': 1... |\n",
       "| ipi | Chinas industrial output r... | {'and': 1, 'seven': 1, 'in... |\n",
       "+-----+-------------------------------+-------------------------------+\n",
       "+-------------------------------+\n",
       "|             tfidf             |\n",
       "+-------------------------------+\n",
       "| {'and': 0.1396744571382365... |\n",
       "| {'reuter': 0.0070237338793... |\n",
       "| {'and': 0.1396744571382365... |\n",
       "| {'adjusted': 8.91715472867... |\n",
       "| {'sector': 6.1803358904267... |\n",
       "| {'rating': 6.3482644832348... |\n",
       "| {'and': 0.2793489142764731... |\n",
       "| {'and': 0.2793489142764731... |\n",
       "| {'and': 0.5586978285529463... |\n",
       "| {'and': 0.1396744571382365... |\n",
       "+-------------------------------+\n",
       "[2286 rows x 4 columns]\n",
       "Note: Only the head of the SFrame is printed.\n",
       "You can use print_rows(num_rows=m, num_columns=n) to print more rows and columns."
      ]
     },
     "execution_count": 7,
     "metadata": {},
     "output_type": "execute_result"
    }
   ],
   "source": [
    "sf"
   ]
  },
  {
   "cell_type": "markdown",
   "metadata": {},
   "source": [
    "<h2>Ramdomly Splitting Data as Train (80%) and Test (20%)</h2>"
   ]
  },
  {
   "cell_type": "code",
   "execution_count": 23,
   "metadata": {
    "collapsed": true
   },
   "outputs": [],
   "source": [
    "train_data, test_data = sf.random_split(0.8)\n"
   ]
  },
  {
   "cell_type": "markdown",
   "metadata": {},
   "source": [
    "<h2>Task-3: Using Different Classifiers to Classify Data</h2>"
   ]
  },
  {
   "cell_type": "markdown",
   "metadata": {},
   "source": [
    "<h2>SVM Classifier</h2>"
   ]
  },
  {
   "cell_type": "code",
   "execution_count": 9,
   "metadata": {
    "collapsed": false
   },
   "outputs": [
    {
     "data": {
      "text/html": [
       "<pre>WARNING: The number of feature dimensions in this problem is very large in comparison with the number of examples. Unless an appropriate regularization value is set, this model may not provide accurate predictions for a validation/test set.</pre>"
      ],
      "text/plain": [
       "WARNING: The number of feature dimensions in this problem is very large in comparison with the number of examples. Unless an appropriate regularization value is set, this model may not provide accurate predictions for a validation/test set."
      ]
     },
     "metadata": {},
     "output_type": "display_data"
    },
    {
     "name": "stderr",
     "output_type": "stream",
     "text": [
      "2016-04-19 20:57:54,311 [ERROR] graphlab.toolkits._main, 66: Toolkit error: Linear SVM currently only supports binary classification. Use the boosted_trees_classifier for multi-class classification.\n",
      "\n"
     ]
    },
    {
     "name": "stdout",
     "output_type": "stream",
     "text": [
      "PROGRESS: Creating a validation set from 5 percent of training data. This may take a while.\n",
      "          You can set ``validation_set=None`` to disable validation tracking.\n",
      "\n"
     ]
    },
    {
     "ename": "ToolkitError",
     "evalue": "Linear SVM currently only supports binary classification. Use the boosted_trees_classifier for multi-class classification.\n",
     "output_type": "error",
     "traceback": [
      "\u001b[0;31m---------------------------------------------------------------------------\u001b[0m",
      "\u001b[0;31mToolkitError\u001b[0m                              Traceback (most recent call last)",
      "\u001b[0;32m<ipython-input-9-5f04ba60d8a3>\u001b[0m in \u001b[0;36m<module>\u001b[0;34m()\u001b[0m\n\u001b[1;32m      1\u001b[0m svm_combined_model = graphlab.svm_classifier.create(train_data, target='X1',\n\u001b[0;32m----> 2\u001b[0;31m                        features = ['bow','tfidf'])\n\u001b[0m",
      "\u001b[0;32m/Users/Parth/DataEnv/anaconda/envs/dato-env/lib/python2.7/site-packages/graphlab/toolkits/classifier/svm_classifier.pyc\u001b[0m in \u001b[0;36mcreate\u001b[0;34m(dataset, target, features, penalty, solver, feature_rescaling, convergence_threshold, lbfgs_memory_level, max_iterations, class_weights, validation_set, verbose)\u001b[0m\n\u001b[1;32m    224\u001b[0m                         \u001b[0mlbfgs_memory_level\u001b[0m \u001b[0;34m=\u001b[0m \u001b[0mlbfgs_memory_level\u001b[0m\u001b[0;34m,\u001b[0m\u001b[0;34m\u001b[0m\u001b[0m\n\u001b[1;32m    225\u001b[0m                         \u001b[0mmax_iterations\u001b[0m \u001b[0;34m=\u001b[0m \u001b[0mmax_iterations\u001b[0m\u001b[0;34m,\u001b[0m\u001b[0;34m\u001b[0m\u001b[0m\n\u001b[0;32m--> 226\u001b[0;31m                         class_weights = class_weights)\n\u001b[0m\u001b[1;32m    227\u001b[0m \u001b[0;34m\u001b[0m\u001b[0m\n\u001b[1;32m    228\u001b[0m     \u001b[0;32mreturn\u001b[0m \u001b[0mSVMClassifier\u001b[0m\u001b[0;34m(\u001b[0m\u001b[0mmodel\u001b[0m\u001b[0;34m.\u001b[0m\u001b[0m__proxy__\u001b[0m\u001b[0;34m)\u001b[0m\u001b[0;34m\u001b[0m\u001b[0m\n",
      "\u001b[0;32m/Users/Parth/DataEnv/anaconda/envs/dato-env/lib/python2.7/site-packages/graphlab/toolkits/_supervised_learning.pyc\u001b[0m in \u001b[0;36mcreate\u001b[0;34m(dataset, target, model_name, features, validation_set, verbose, distributed, **kwargs)\u001b[0m\n\u001b[1;32m    451\u001b[0m     \u001b[0;32melse\u001b[0m\u001b[0;34m:\u001b[0m\u001b[0;34m\u001b[0m\u001b[0m\n\u001b[1;32m    452\u001b[0m         ret = _graphlab.toolkits._main.run(\"supervised_learning_train\",\n\u001b[0;32m--> 453\u001b[0;31m                                            options, verbose)\n\u001b[0m\u001b[1;32m    454\u001b[0m         \u001b[0mmodel\u001b[0m \u001b[0;34m=\u001b[0m \u001b[0mSupervisedLearningModel\u001b[0m\u001b[0;34m(\u001b[0m\u001b[0mret\u001b[0m\u001b[0;34m[\u001b[0m\u001b[0;34m'model'\u001b[0m\u001b[0;34m]\u001b[0m\u001b[0;34m,\u001b[0m \u001b[0mmodel_name\u001b[0m\u001b[0;34m)\u001b[0m\u001b[0;34m\u001b[0m\u001b[0m\n\u001b[1;32m    455\u001b[0m \u001b[0;34m\u001b[0m\u001b[0m\n",
      "\u001b[0;32m/Users/Parth/DataEnv/anaconda/envs/dato-env/lib/python2.7/site-packages/graphlab/toolkits/_main.pyc\u001b[0m in \u001b[0;36mrun\u001b[0;34m(toolkit_name, options, verbose, show_progress)\u001b[0m\n\u001b[1;32m     87\u001b[0m         \u001b[0m_get_metric_tracker\u001b[0m\u001b[0;34m(\u001b[0m\u001b[0;34m)\u001b[0m\u001b[0;34m.\u001b[0m\u001b[0mtrack\u001b[0m\u001b[0;34m(\u001b[0m\u001b[0mmetric_name\u001b[0m\u001b[0;34m,\u001b[0m \u001b[0mvalue\u001b[0m\u001b[0;34m=\u001b[0m\u001b[0;36m1\u001b[0m\u001b[0;34m,\u001b[0m \u001b[0mproperties\u001b[0m\u001b[0;34m=\u001b[0m\u001b[0mtrack_props\u001b[0m\u001b[0;34m,\u001b[0m \u001b[0msend_sys_info\u001b[0m\u001b[0;34m=\u001b[0m\u001b[0mFalse\u001b[0m\u001b[0;34m)\u001b[0m\u001b[0;34m\u001b[0m\u001b[0m\n\u001b[1;32m     88\u001b[0m \u001b[0;34m\u001b[0m\u001b[0m\n\u001b[0;32m---> 89\u001b[0;31m         \u001b[0;32mraise\u001b[0m \u001b[0mToolkitError\u001b[0m\u001b[0;34m(\u001b[0m\u001b[0mstr\u001b[0m\u001b[0;34m(\u001b[0m\u001b[0mmessage\u001b[0m\u001b[0;34m)\u001b[0m\u001b[0;34m)\u001b[0m\u001b[0;34m\u001b[0m\u001b[0m\n\u001b[0m",
      "\u001b[0;31mToolkitError\u001b[0m: Linear SVM currently only supports binary classification. Use the boosted_trees_classifier for multi-class classification.\n"
     ]
    }
   ],
   "source": [
    "svm_combined_model = graphlab.svm_classifier.create(train_data, target='X1',\n",
    "                       features = ['bow','tfidf'])"
   ]
  },
  {
   "cell_type": "markdown",
   "metadata": {},
   "source": [
    "<h2>Nearest Neighbor Classifier</h2>"
   ]
  },
  {
   "cell_type": "code",
   "execution_count": 10,
   "metadata": {
    "collapsed": false
   },
   "outputs": [
    {
     "data": {
      "text/html": [
       "<pre>Starting brute force nearest neighbors model training.</pre>"
      ],
      "text/plain": [
       "Starting brute force nearest neighbors model training."
      ]
     },
     "metadata": {},
     "output_type": "display_data"
    },
    {
     "data": {
      "text/html": [
       "<pre>Starting pairwise querying.</pre>"
      ],
      "text/plain": [
       "Starting pairwise querying."
      ]
     },
     "metadata": {},
     "output_type": "display_data"
    },
    {
     "data": {
      "text/html": [
       "<pre>+--------------+---------+-------------+--------------+</pre>"
      ],
      "text/plain": [
       "+--------------+---------+-------------+--------------+"
      ]
     },
     "metadata": {},
     "output_type": "display_data"
    },
    {
     "data": {
      "text/html": [
       "<pre>| Query points | # Pairs | % Complete. | Elapsed Time |</pre>"
      ],
      "text/plain": [
       "| Query points | # Pairs | % Complete. | Elapsed Time |"
      ]
     },
     "metadata": {},
     "output_type": "display_data"
    },
    {
     "data": {
      "text/html": [
       "<pre>+--------------+---------+-------------+--------------+</pre>"
      ],
      "text/plain": [
       "+--------------+---------+-------------+--------------+"
      ]
     },
     "metadata": {},
     "output_type": "display_data"
    },
    {
     "data": {
      "text/html": [
       "<pre>| 0            | 465     | 0.0549149   | 8.634ms      |</pre>"
      ],
      "text/plain": [
       "| 0            | 465     | 0.0549149   | 8.634ms      |"
      ]
     },
     "metadata": {},
     "output_type": "display_data"
    },
    {
     "data": {
      "text/html": [
       "<pre>| Done         |         | 100         | 338.507ms    |</pre>"
      ],
      "text/plain": [
       "| Done         |         | 100         | 338.507ms    |"
      ]
     },
     "metadata": {},
     "output_type": "display_data"
    },
    {
     "data": {
      "text/html": [
       "<pre>+--------------+---------+-------------+--------------+</pre>"
      ],
      "text/plain": [
       "+--------------+---------+-------------+--------------+"
      ]
     },
     "metadata": {},
     "output_type": "display_data"
    },
    {
     "data": {
      "text/html": [
       "<pre>Starting pairwise querying.</pre>"
      ],
      "text/plain": [
       "Starting pairwise querying."
      ]
     },
     "metadata": {},
     "output_type": "display_data"
    },
    {
     "data": {
      "text/html": [
       "<pre>+--------------+---------+-------------+--------------+</pre>"
      ],
      "text/plain": [
       "+--------------+---------+-------------+--------------+"
      ]
     },
     "metadata": {},
     "output_type": "display_data"
    },
    {
     "data": {
      "text/html": [
       "<pre>| Query points | # Pairs | % Complete. | Elapsed Time |</pre>"
      ],
      "text/plain": [
       "| Query points | # Pairs | % Complete. | Elapsed Time |"
      ]
     },
     "metadata": {},
     "output_type": "display_data"
    },
    {
     "data": {
      "text/html": [
       "<pre>+--------------+---------+-------------+--------------+</pre>"
      ],
      "text/plain": [
       "+--------------+---------+-------------+--------------+"
      ]
     },
     "metadata": {},
     "output_type": "display_data"
    },
    {
     "data": {
      "text/html": [
       "<pre>| 0            | 465     | 0.0549149   | 11.803ms     |</pre>"
      ],
      "text/plain": [
       "| 0            | 465     | 0.0549149   | 11.803ms     |"
      ]
     },
     "metadata": {},
     "output_type": "display_data"
    },
    {
     "data": {
      "text/html": [
       "<pre>| Done         |         | 100         | 297.066ms    |</pre>"
      ],
      "text/plain": [
       "| Done         |         | 100         | 297.066ms    |"
      ]
     },
     "metadata": {},
     "output_type": "display_data"
    },
    {
     "data": {
      "text/html": [
       "<pre>+--------------+---------+-------------+--------------+</pre>"
      ],
      "text/plain": [
       "+--------------+---------+-------------+--------------+"
      ]
     },
     "metadata": {},
     "output_type": "display_data"
    },
    {
     "name": "stdout",
     "output_type": "stream",
     "text": [
      "WARNING: Ignoring `roc_curve`. Not supported for multi-class classification.\n",
      "{'confusion_matrix': Columns:\n",
      "\ttarget_label\tstr\n",
      "\tpredicted_label\tstr\n",
      "\tcount\tint\n",
      "\n",
      "Rows: 126\n",
      "\n",
      "Data:\n",
      "+-----------------+------------------+-------+\n",
      "|   target_label  | predicted_label  | count |\n",
      "+-----------------+------------------+-------+\n",
      "|   crudenat-gas  |   crudenat-gas   |   8   |\n",
      "|   money-fxdlr   |   money-fxdlr    |   22  |\n",
      "|      copper     |    graincorn     |   1   |\n",
      "| veg-oilpalm-oil | veg-oilpalm-oil  |   1   |\n",
      "|      grain      |       gnp        |   1   |\n",
      "|     nat-gas     |   crudenat-gas   |   4   |\n",
      "|       gas       |       alum       |   1   |\n",
      "|       gas       |      copper      |   1   |\n",
      "|   crudenat-gas  |       jobs       |   1   |\n",
      "|   money-supply  | interestmoney-fx |   1   |\n",
      "+-----------------+------------------+-------+\n",
      "[126 rows x 3 columns]\n",
      "Note: Only the head of the SFrame is printed.\n",
      "You can use print_rows(num_rows=m, num_columns=n) to print more rows and columns., 'accuracy': 0.6064516129032258}\n"
     ]
    }
   ],
   "source": [
    "nearestN_bow_model = graphlab.nearest_neighbor_classifier.create(train_data, target='X1',\n",
    "                                    features = ['bow'])\n",
    "nearestN_bow_results = nearestN_bow_model.evaluate(test_data)\n",
    "print nearestN_bow_results"
   ]
  },
  {
   "cell_type": "code",
   "execution_count": 24,
   "metadata": {
    "collapsed": false
   },
   "outputs": [
    {
     "data": {
      "text/html": [
       "<pre>Starting brute force nearest neighbors model training.</pre>"
      ],
      "text/plain": [
       "Starting brute force nearest neighbors model training."
      ]
     },
     "metadata": {},
     "output_type": "display_data"
    },
    {
     "data": {
      "text/html": [
       "<pre>Starting pairwise querying.</pre>"
      ],
      "text/plain": [
       "Starting pairwise querying."
      ]
     },
     "metadata": {},
     "output_type": "display_data"
    },
    {
     "data": {
      "text/html": [
       "<pre>+--------------+---------+-------------+--------------+</pre>"
      ],
      "text/plain": [
       "+--------------+---------+-------------+--------------+"
      ]
     },
     "metadata": {},
     "output_type": "display_data"
    },
    {
     "data": {
      "text/html": [
       "<pre>| Query points | # Pairs | % Complete. | Elapsed Time |</pre>"
      ],
      "text/plain": [
       "| Query points | # Pairs | % Complete. | Elapsed Time |"
      ]
     },
     "metadata": {},
     "output_type": "display_data"
    },
    {
     "data": {
      "text/html": [
       "<pre>+--------------+---------+-------------+--------------+</pre>"
      ],
      "text/plain": [
       "+--------------+---------+-------------+--------------+"
      ]
     },
     "metadata": {},
     "output_type": "display_data"
    },
    {
     "data": {
      "text/html": [
       "<pre>| 0            | 478     | 0.0553097   | 11.481ms     |</pre>"
      ],
      "text/plain": [
       "| 0            | 478     | 0.0553097   | 11.481ms     |"
      ]
     },
     "metadata": {},
     "output_type": "display_data"
    },
    {
     "data": {
      "text/html": [
       "<pre>| Done         |         | 100         | 504.337ms    |</pre>"
      ],
      "text/plain": [
       "| Done         |         | 100         | 504.337ms    |"
      ]
     },
     "metadata": {},
     "output_type": "display_data"
    },
    {
     "data": {
      "text/html": [
       "<pre>+--------------+---------+-------------+--------------+</pre>"
      ],
      "text/plain": [
       "+--------------+---------+-------------+--------------+"
      ]
     },
     "metadata": {},
     "output_type": "display_data"
    },
    {
     "data": {
      "text/html": [
       "<pre>Starting pairwise querying.</pre>"
      ],
      "text/plain": [
       "Starting pairwise querying."
      ]
     },
     "metadata": {},
     "output_type": "display_data"
    },
    {
     "data": {
      "text/html": [
       "<pre>+--------------+---------+-------------+--------------+</pre>"
      ],
      "text/plain": [
       "+--------------+---------+-------------+--------------+"
      ]
     },
     "metadata": {},
     "output_type": "display_data"
    },
    {
     "data": {
      "text/html": [
       "<pre>| Query points | # Pairs | % Complete. | Elapsed Time |</pre>"
      ],
      "text/plain": [
       "| Query points | # Pairs | % Complete. | Elapsed Time |"
      ]
     },
     "metadata": {},
     "output_type": "display_data"
    },
    {
     "data": {
      "text/html": [
       "<pre>+--------------+---------+-------------+--------------+</pre>"
      ],
      "text/plain": [
       "+--------------+---------+-------------+--------------+"
      ]
     },
     "metadata": {},
     "output_type": "display_data"
    },
    {
     "data": {
      "text/html": [
       "<pre>| 0            | 478     | 0.0553097   | 13.432ms     |</pre>"
      ],
      "text/plain": [
       "| 0            | 478     | 0.0553097   | 13.432ms     |"
      ]
     },
     "metadata": {},
     "output_type": "display_data"
    },
    {
     "data": {
      "text/html": [
       "<pre>| Done         |         | 100         | 391.708ms    |</pre>"
      ],
      "text/plain": [
       "| Done         |         | 100         | 391.708ms    |"
      ]
     },
     "metadata": {},
     "output_type": "display_data"
    },
    {
     "data": {
      "text/html": [
       "<pre>+--------------+---------+-------------+--------------+</pre>"
      ],
      "text/plain": [
       "+--------------+---------+-------------+--------------+"
      ]
     },
     "metadata": {},
     "output_type": "display_data"
    },
    {
     "name": "stdout",
     "output_type": "stream",
     "text": [
      "WARNING: Ignoring `roc_curve`. Not supported for multi-class classification.\n",
      "{'confusion_matrix': Columns:\n",
      "\ttarget_label\tstr\n",
      "\tpredicted_label\tstr\n",
      "\tcount\tint\n",
      "\n",
      "Rows: 98\n",
      "\n",
      "Data:\n",
      "+------------------+------------------+-------+\n",
      "|   target_label   | predicted_label  | count |\n",
      "+------------------+------------------+-------+\n",
      "|     tradebop     |     tradebop     |   1   |\n",
      "|   money-supply   |   money-supply   |   20  |\n",
      "|   money-fxdlr    |   money-fxdlr    |   28  |\n",
      "|       ipi        |       cpi        |   2   |\n",
      "|   crudenat-gas   |      grain       |   1   |\n",
      "| livestockcarcass |     veg-oil      |   3   |\n",
      "|       gas        |   crudenat-gas   |   1   |\n",
      "|   crudenat-gas   |     nat-gas      |   1   |\n",
      "|  oilseedsoybean  |     veg-oil      |   2   |\n",
      "| livestockcarcass | livestockcarcass |   1   |\n",
      "+------------------+------------------+-------+\n",
      "[98 rows x 3 columns]\n",
      "Note: Only the head of the SFrame is printed.\n",
      "You can use print_rows(num_rows=m, num_columns=n) to print more rows and columns., 'accuracy': 0.6548117154811716}\n"
     ]
    }
   ],
   "source": [
    "nearestN_tfidf_model = graphlab.nearest_neighbor_classifier.create(train_data, target='X1',\n",
    "                                    features = ['tfidf'])\n",
    "nearestN_tfidf_results = nearestN_tfidf_model.evaluate(test_data)\n",
    "print nearestN_tfidf_results"
   ]
  },
  {
   "cell_type": "code",
   "execution_count": 13,
   "metadata": {
    "collapsed": false
   },
   "outputs": [
    {
     "data": {
      "text/html": [
       "<pre>Starting brute force nearest neighbors model training.</pre>"
      ],
      "text/plain": [
       "Starting brute force nearest neighbors model training."
      ]
     },
     "metadata": {},
     "output_type": "display_data"
    },
    {
     "data": {
      "text/html": [
       "<pre>Starting pairwise querying.</pre>"
      ],
      "text/plain": [
       "Starting pairwise querying."
      ]
     },
     "metadata": {},
     "output_type": "display_data"
    },
    {
     "data": {
      "text/html": [
       "<pre>+--------------+---------+-------------+--------------+</pre>"
      ],
      "text/plain": [
       "+--------------+---------+-------------+--------------+"
      ]
     },
     "metadata": {},
     "output_type": "display_data"
    },
    {
     "data": {
      "text/html": [
       "<pre>| Query points | # Pairs | % Complete. | Elapsed Time |</pre>"
      ],
      "text/plain": [
       "| Query points | # Pairs | % Complete. | Elapsed Time |"
      ]
     },
     "metadata": {},
     "output_type": "display_data"
    },
    {
     "data": {
      "text/html": [
       "<pre>+--------------+---------+-------------+--------------+</pre>"
      ],
      "text/plain": [
       "+--------------+---------+-------------+--------------+"
      ]
     },
     "metadata": {},
     "output_type": "display_data"
    },
    {
     "data": {
      "text/html": [
       "<pre>| 0            | 465     | 0.0549149   | 25.894ms     |</pre>"
      ],
      "text/plain": [
       "| 0            | 465     | 0.0549149   | 25.894ms     |"
      ]
     },
     "metadata": {},
     "output_type": "display_data"
    },
    {
     "data": {
      "text/html": [
       "<pre>| Done         |         | 100         | 701.707ms    |</pre>"
      ],
      "text/plain": [
       "| Done         |         | 100         | 701.707ms    |"
      ]
     },
     "metadata": {},
     "output_type": "display_data"
    },
    {
     "data": {
      "text/html": [
       "<pre>+--------------+---------+-------------+--------------+</pre>"
      ],
      "text/plain": [
       "+--------------+---------+-------------+--------------+"
      ]
     },
     "metadata": {},
     "output_type": "display_data"
    },
    {
     "data": {
      "text/html": [
       "<pre>Starting pairwise querying.</pre>"
      ],
      "text/plain": [
       "Starting pairwise querying."
      ]
     },
     "metadata": {},
     "output_type": "display_data"
    },
    {
     "data": {
      "text/html": [
       "<pre>+--------------+---------+-------------+--------------+</pre>"
      ],
      "text/plain": [
       "+--------------+---------+-------------+--------------+"
      ]
     },
     "metadata": {},
     "output_type": "display_data"
    },
    {
     "data": {
      "text/html": [
       "<pre>| Query points | # Pairs | % Complete. | Elapsed Time |</pre>"
      ],
      "text/plain": [
       "| Query points | # Pairs | % Complete. | Elapsed Time |"
      ]
     },
     "metadata": {},
     "output_type": "display_data"
    },
    {
     "data": {
      "text/html": [
       "<pre>+--------------+---------+-------------+--------------+</pre>"
      ],
      "text/plain": [
       "+--------------+---------+-------------+--------------+"
      ]
     },
     "metadata": {},
     "output_type": "display_data"
    },
    {
     "data": {
      "text/html": [
       "<pre>| 0            | 465     | 0.0549149   | 28.451ms     |</pre>"
      ],
      "text/plain": [
       "| 0            | 465     | 0.0549149   | 28.451ms     |"
      ]
     },
     "metadata": {},
     "output_type": "display_data"
    },
    {
     "data": {
      "text/html": [
       "<pre>| Done         |         | 100         | 590.193ms    |</pre>"
      ],
      "text/plain": [
       "| Done         |         | 100         | 590.193ms    |"
      ]
     },
     "metadata": {},
     "output_type": "display_data"
    },
    {
     "data": {
      "text/html": [
       "<pre>+--------------+---------+-------------+--------------+</pre>"
      ],
      "text/plain": [
       "+--------------+---------+-------------+--------------+"
      ]
     },
     "metadata": {},
     "output_type": "display_data"
    },
    {
     "name": "stdout",
     "output_type": "stream",
     "text": [
      "WARNING: Ignoring `roc_curve`. Not supported for multi-class classification.\n",
      "{'confusion_matrix': Columns:\n",
      "\ttarget_label\tstr\n",
      "\tpredicted_label\tstr\n",
      "\tcount\tint\n",
      "\n",
      "Rows: 106\n",
      "\n",
      "Data:\n",
      "+--------------+-----------------+-------+\n",
      "| target_label | predicted_label | count |\n",
      "+--------------+-----------------+-------+\n",
      "|   pet-chem   |      grain      |   1   |\n",
      "|    grain     |    graincorn    |   17  |\n",
      "| money-fxdlr  |   money-fxdlr   |   22  |\n",
      "| crudenat-gas |   crudenat-gas  |   10  |\n",
      "|     bop      |       bop       |   8   |\n",
      "|   veg-oil    |     veg-oil     |   6   |\n",
      "|    copper    |      rubber     |   1   |\n",
      "|    copper    |      copper     |   7   |\n",
      "|     gas      |       gas       |   4   |\n",
      "|    rubber    |      rubber     |   8   |\n",
      "+--------------+-----------------+-------+\n",
      "[106 rows x 3 columns]\n",
      "Note: Only the head of the SFrame is printed.\n",
      "You can use print_rows(num_rows=m, num_columns=n) to print more rows and columns., 'accuracy': 0.6516129032258065}\n"
     ]
    }
   ],
   "source": [
    "nearestN_combined_model = graphlab.nearest_neighbor_classifier.create(train_data, target='X1',\n",
    "                                    features = ['bow','tfidf'])\n",
    "nearestN_combined_results = nearestN_combined_model.evaluate(test_data)\n",
    "print nearestN_combined_results"
   ]
  },
  {
   "cell_type": "code",
   "execution_count": 14,
   "metadata": {
    "collapsed": false
   },
   "outputs": [
    {
     "name": "stdout",
     "output_type": "stream",
     "text": [
      "Precision of Nearest Neighbors Classifier: 0.392754736303\n",
      "Recall of Nearest Neighbors Classifier: 0.295588235294\n"
     ]
    }
   ],
   "source": [
    "confusion_matrix = nearestN_combined_results.get('confusion_matrix')\n",
    "\n",
    "targets = graphlab.SArray(confusion_matrix['target_label'])\n",
    "predictions = graphlab.SArray(confusion_matrix['predicted_label'])\n",
    "\n",
    "precision_score   = graphlab.evaluation.precision(targets, predictions)\n",
    "recall_score  = graphlab.evaluation.recall(targets, predictions)\n",
    "\n",
    "print \"Precision of Nearest Neighbors Classifier: \" + str(precision_score)\n",
    "print \"Recall of Nearest Neighbors Classifier: \" + str(recall_score)"
   ]
  },
  {
   "cell_type": "markdown",
   "metadata": {},
   "source": [
    "<h2>Decision Tree Classifier</h2>"
   ]
  },
  {
   "cell_type": "code",
   "execution_count": 25,
   "metadata": {
    "collapsed": false
   },
   "outputs": [
    {
     "data": {
      "text/html": [
       "<pre>WARNING: The number of feature dimensions in this problem is very large in comparison with the number of examples. Unless an appropriate regularization value is set, this model may not provide accurate predictions for a validation/test set.</pre>"
      ],
      "text/plain": [
       "WARNING: The number of feature dimensions in this problem is very large in comparison with the number of examples. Unless an appropriate regularization value is set, this model may not provide accurate predictions for a validation/test set."
      ]
     },
     "metadata": {},
     "output_type": "display_data"
    },
    {
     "data": {
      "text/html": [
       "<pre>WARNING: Detected extremely low variance for feature(s) 'tfidf' because all entries are nearly the same.\n",
       "Proceeding with model training using all features. If the model does not provide results of adequate quality, exclude the above mentioned feature(s) from the input dataset.</pre>"
      ],
      "text/plain": [
       "WARNING: Detected extremely low variance for feature(s) 'tfidf' because all entries are nearly the same.\n",
       "Proceeding with model training using all features. If the model does not provide results of adequate quality, exclude the above mentioned feature(s) from the input dataset."
      ]
     },
     "metadata": {},
     "output_type": "display_data"
    },
    {
     "data": {
      "text/html": [
       "<pre>Decision tree classifier:</pre>"
      ],
      "text/plain": [
       "Decision tree classifier:"
      ]
     },
     "metadata": {},
     "output_type": "display_data"
    },
    {
     "data": {
      "text/html": [
       "<pre>--------------------------------------------------------</pre>"
      ],
      "text/plain": [
       "--------------------------------------------------------"
      ]
     },
     "metadata": {},
     "output_type": "display_data"
    },
    {
     "data": {
      "text/html": [
       "<pre>Number of examples          : 1703</pre>"
      ],
      "text/plain": [
       "Number of examples          : 1703"
      ]
     },
     "metadata": {},
     "output_type": "display_data"
    },
    {
     "data": {
      "text/html": [
       "<pre>Number of classes           : 34</pre>"
      ],
      "text/plain": [
       "Number of classes           : 34"
      ]
     },
     "metadata": {},
     "output_type": "display_data"
    },
    {
     "data": {
      "text/html": [
       "<pre>Number of feature columns   : 3</pre>"
      ],
      "text/plain": [
       "Number of feature columns   : 3"
      ]
     },
     "metadata": {},
     "output_type": "display_data"
    },
    {
     "data": {
      "text/html": [
       "<pre>Number of unpacked features : 34037</pre>"
      ],
      "text/plain": [
       "Number of unpacked features : 34037"
      ]
     },
     "metadata": {},
     "output_type": "display_data"
    },
    {
     "data": {
      "text/html": [
       "<pre>+-----------+--------------+-------------------+-------------------+---------------------+---------------------+</pre>"
      ],
      "text/plain": [
       "+-----------+--------------+-------------------+-------------------+---------------------+---------------------+"
      ]
     },
     "metadata": {},
     "output_type": "display_data"
    },
    {
     "data": {
      "text/html": [
       "<pre>| Iteration | Elapsed Time | Training-accuracy | Training-log_loss | Validation-accuracy | Validation-log_loss |</pre>"
      ],
      "text/plain": [
       "| Iteration | Elapsed Time | Training-accuracy | Training-log_loss | Validation-accuracy | Validation-log_loss |"
      ]
     },
     "metadata": {},
     "output_type": "display_data"
    },
    {
     "data": {
      "text/html": [
       "<pre>+-----------+--------------+-------------------+-------------------+---------------------+---------------------+</pre>"
      ],
      "text/plain": [
       "+-----------+--------------+-------------------+-------------------+---------------------+---------------------+"
      ]
     },
     "metadata": {},
     "output_type": "display_data"
    },
    {
     "data": {
      "text/html": [
       "<pre>| 1         | 1.049343     | 0.867880          | 1.293465          | 0.714286            | 1.724966            |</pre>"
      ],
      "text/plain": [
       "| 1         | 1.049343     | 0.867880          | 1.293465          | 0.714286            | 1.724966            |"
      ]
     },
     "metadata": {},
     "output_type": "display_data"
    },
    {
     "data": {
      "text/html": [
       "<pre>+-----------+--------------+-------------------+-------------------+---------------------+---------------------+</pre>"
      ],
      "text/plain": [
       "+-----------+--------------+-------------------+-------------------+---------------------+---------------------+"
      ]
     },
     "metadata": {},
     "output_type": "display_data"
    },
    {
     "name": "stdout",
     "output_type": "stream",
     "text": [
      "PROGRESS: Creating a validation set from 5 percent of training data. This may take a while.\n",
      "          You can set ``validation_set=None`` to disable validation tracking.\n",
      "\n",
      "{'f1_score': 0.6703676860176627, 'auc': 0.9339829558136492, 'recall': 0.6534578839077109, 'precision': 0.7258817960340894, 'log_loss': 1.8209153228118933, 'roc_curve': Columns:\n",
      "\tthreshold\tfloat\n",
      "\tfpr\tfloat\n",
      "\ttpr\tfloat\n",
      "\tp\tint\n",
      "\tn\tint\n",
      "\tclass\tint\n",
      "\n",
      "Rows: 3400034\n",
      "\n",
      "Data:\n",
      "+-----------+-----+-----+---+-----+-------+\n",
      "| threshold | fpr | tpr | p |  n  | class |\n",
      "+-----------+-----+-----+---+-----+-------+\n",
      "|    0.0    | 1.0 | 1.0 | 8 | 470 |   0   |\n",
      "|   1e-05   | 1.0 | 1.0 | 8 | 470 |   0   |\n",
      "|   2e-05   | 1.0 | 1.0 | 8 | 470 |   0   |\n",
      "|   3e-05   | 1.0 | 1.0 | 8 | 470 |   0   |\n",
      "|   4e-05   | 1.0 | 1.0 | 8 | 470 |   0   |\n",
      "|   5e-05   | 1.0 | 1.0 | 8 | 470 |   0   |\n",
      "|   6e-05   | 1.0 | 1.0 | 8 | 470 |   0   |\n",
      "|   7e-05   | 1.0 | 1.0 | 8 | 470 |   0   |\n",
      "|   8e-05   | 1.0 | 1.0 | 8 | 470 |   0   |\n",
      "|   9e-05   | 1.0 | 1.0 | 8 | 470 |   0   |\n",
      "+-----------+-----+-----+---+-----+-------+\n",
      "[3400034 rows x 6 columns]\n",
      "Note: Only the head of the SFrame is printed.\n",
      "You can use print_rows(num_rows=m, num_columns=n) to print more rows and columns., 'confusion_matrix': Columns:\n",
      "\ttarget_label\tstr\n",
      "\tpredicted_label\tstr\n",
      "\tcount\tint\n",
      "\n",
      "Rows: 94\n",
      "\n",
      "Data:\n",
      "+-----------------+-----------------+-------+\n",
      "|   target_label  | predicted_label | count |\n",
      "+-----------------+-----------------+-------+\n",
      "|    shipcrude    |    crudeship    |   3   |\n",
      "|     pet-chem    |       ipi       |   1   |\n",
      "|     tradebop    |       gnp       |   1   |\n",
      "|      copper     |      copper     |   12  |\n",
      "| veg-oilpalm-oil |     veg-oil     |   1   |\n",
      "|     nat-gas     |      grain      |   1   |\n",
      "|      grain      |      grain      |   75  |\n",
      "|   dlrmoney-fx   |   money-fxdlr   |   2   |\n",
      "|       tin       |       cpi       |   1   |\n",
      "|      cocoa      |      cocoa      |   16  |\n",
      "+-----------------+-----------------+-------+\n",
      "[94 rows x 3 columns]\n",
      "Note: Only the head of the SFrame is printed.\n",
      "You can use print_rows(num_rows=m, num_columns=n) to print more rows and columns., 'accuracy': 0.6882845188284519}\n"
     ]
    }
   ],
   "source": [
    "decisionTree_model = graphlab.decision_tree_classifier.create(train_data, target='X1', max_depth = 5)\n",
    "decisionTree_results = decisionTree_model.evaluate(test_data)\n",
    "print decisionTree_results"
   ]
  },
  {
   "cell_type": "code",
   "execution_count": 16,
   "metadata": {
    "collapsed": false
   },
   "outputs": [
    {
     "name": "stdout",
     "output_type": "stream",
     "text": [
      "Canvas is accessible via web browser at the URL: http://localhost:63705/index.html\n",
      "Opening Canvas in default web browser.\n"
     ]
    }
   ],
   "source": [
    "decisionTree_model.show(view=\"Tree\")"
   ]
  },
  {
   "cell_type": "markdown",
   "metadata": {},
   "source": [
    "<h2>Boosted Trees Classifier</h2>"
   ]
  },
  {
   "cell_type": "code",
   "execution_count": 26,
   "metadata": {
    "collapsed": false
   },
   "outputs": [
    {
     "data": {
      "text/html": [
       "<pre>WARNING: The number of feature dimensions in this problem is very large in comparison with the number of examples. Unless an appropriate regularization value is set, this model may not provide accurate predictions for a validation/test set.</pre>"
      ],
      "text/plain": [
       "WARNING: The number of feature dimensions in this problem is very large in comparison with the number of examples. Unless an appropriate regularization value is set, this model may not provide accurate predictions for a validation/test set."
      ]
     },
     "metadata": {},
     "output_type": "display_data"
    },
    {
     "data": {
      "text/html": [
       "<pre>WARNING: Detected extremely low variance for feature(s) 'tfidf' because all entries are nearly the same.\n",
       "Proceeding with model training using all features. If the model does not provide results of adequate quality, exclude the above mentioned feature(s) from the input dataset.</pre>"
      ],
      "text/plain": [
       "WARNING: Detected extremely low variance for feature(s) 'tfidf' because all entries are nearly the same.\n",
       "Proceeding with model training using all features. If the model does not provide results of adequate quality, exclude the above mentioned feature(s) from the input dataset."
      ]
     },
     "metadata": {},
     "output_type": "display_data"
    },
    {
     "data": {
      "text/html": [
       "<pre>Boosted trees classifier:</pre>"
      ],
      "text/plain": [
       "Boosted trees classifier:"
      ]
     },
     "metadata": {},
     "output_type": "display_data"
    },
    {
     "data": {
      "text/html": [
       "<pre>--------------------------------------------------------</pre>"
      ],
      "text/plain": [
       "--------------------------------------------------------"
      ]
     },
     "metadata": {},
     "output_type": "display_data"
    },
    {
     "data": {
      "text/html": [
       "<pre>Number of examples          : 1729</pre>"
      ],
      "text/plain": [
       "Number of examples          : 1729"
      ]
     },
     "metadata": {},
     "output_type": "display_data"
    },
    {
     "data": {
      "text/html": [
       "<pre>Number of classes           : 34</pre>"
      ],
      "text/plain": [
       "Number of classes           : 34"
      ]
     },
     "metadata": {},
     "output_type": "display_data"
    },
    {
     "data": {
      "text/html": [
       "<pre>Number of feature columns   : 3</pre>"
      ],
      "text/plain": [
       "Number of feature columns   : 3"
      ]
     },
     "metadata": {},
     "output_type": "display_data"
    },
    {
     "data": {
      "text/html": [
       "<pre>Number of unpacked features : 34603</pre>"
      ],
      "text/plain": [
       "Number of unpacked features : 34603"
      ]
     },
     "metadata": {},
     "output_type": "display_data"
    },
    {
     "data": {
      "text/html": [
       "<pre>+-----------+--------------+-------------------+-------------------+---------------------+---------------------+</pre>"
      ],
      "text/plain": [
       "+-----------+--------------+-------------------+-------------------+---------------------+---------------------+"
      ]
     },
     "metadata": {},
     "output_type": "display_data"
    },
    {
     "data": {
      "text/html": [
       "<pre>| Iteration | Elapsed Time | Training-accuracy | Training-log_loss | Validation-accuracy | Validation-log_loss |</pre>"
      ],
      "text/plain": [
       "| Iteration | Elapsed Time | Training-accuracy | Training-log_loss | Validation-accuracy | Validation-log_loss |"
      ]
     },
     "metadata": {},
     "output_type": "display_data"
    },
    {
     "data": {
      "text/html": [
       "<pre>+-----------+--------------+-------------------+-------------------+---------------------+---------------------+</pre>"
      ],
      "text/plain": [
       "+-----------+--------------+-------------------+-------------------+---------------------+---------------------+"
      ]
     },
     "metadata": {},
     "output_type": "display_data"
    },
    {
     "data": {
      "text/html": [
       "<pre>| 1         | 0.734883     | 0.813765          | 1.436262          | 0.632911            | 1.743373            |</pre>"
      ],
      "text/plain": [
       "| 1         | 0.734883     | 0.813765          | 1.436262          | 0.632911            | 1.743373            |"
      ]
     },
     "metadata": {},
     "output_type": "display_data"
    },
    {
     "data": {
      "text/html": [
       "<pre>| 2         | 1.335478     | 0.829960          | 1.137638          | 0.645570            | 1.525460            |</pre>"
      ],
      "text/plain": [
       "| 2         | 1.335478     | 0.829960          | 1.137638          | 0.645570            | 1.525460            |"
      ]
     },
     "metadata": {},
     "output_type": "display_data"
    },
    {
     "data": {
      "text/html": [
       "<pre>+-----------+--------------+-------------------+-------------------+---------------------+---------------------+</pre>"
      ],
      "text/plain": [
       "+-----------+--------------+-------------------+-------------------+---------------------+---------------------+"
      ]
     },
     "metadata": {},
     "output_type": "display_data"
    },
    {
     "name": "stdout",
     "output_type": "stream",
     "text": [
      "PROGRESS: Creating a validation set from 5 percent of training data. This may take a while.\n",
      "          You can set ``validation_set=None`` to disable validation tracking.\n",
      "\n",
      "{'f1_score': 0.6956296504881868, 'auc': 0.9691643100936188, 'recall': 0.677073426381385, 'precision': 0.7794860874122103, 'log_loss': 1.5315525402976042, 'roc_curve': Columns:\n",
      "\tthreshold\tfloat\n",
      "\tfpr\tfloat\n",
      "\ttpr\tfloat\n",
      "\tp\tint\n",
      "\tn\tint\n",
      "\tclass\tint\n",
      "\n",
      "Rows: 3400034\n",
      "\n",
      "Data:\n",
      "+-----------+-----+-----+---+-----+-------+\n",
      "| threshold | fpr | tpr | p |  n  | class |\n",
      "+-----------+-----+-----+---+-----+-------+\n",
      "|    0.0    | 1.0 | 1.0 | 8 | 470 |   0   |\n",
      "|   1e-05   | 1.0 | 1.0 | 8 | 470 |   0   |\n",
      "|   2e-05   | 1.0 | 1.0 | 8 | 470 |   0   |\n",
      "|   3e-05   | 1.0 | 1.0 | 8 | 470 |   0   |\n",
      "|   4e-05   | 1.0 | 1.0 | 8 | 470 |   0   |\n",
      "|   5e-05   | 1.0 | 1.0 | 8 | 470 |   0   |\n",
      "|   6e-05   | 1.0 | 1.0 | 8 | 470 |   0   |\n",
      "|   7e-05   | 1.0 | 1.0 | 8 | 470 |   0   |\n",
      "|   8e-05   | 1.0 | 1.0 | 8 | 470 |   0   |\n",
      "|   9e-05   | 1.0 | 1.0 | 8 | 470 |   0   |\n",
      "+-----------+-----+-----+---+-----+-------+\n",
      "[3400034 rows x 6 columns]\n",
      "Note: Only the head of the SFrame is printed.\n",
      "You can use print_rows(num_rows=m, num_columns=n) to print more rows and columns., 'confusion_matrix': Columns:\n",
      "\ttarget_label\tstr\n",
      "\tpredicted_label\tstr\n",
      "\tcount\tint\n",
      "\n",
      "Rows: 91\n",
      "\n",
      "Data:\n",
      "+--------------+-----------------+-------+\n",
      "| target_label | predicted_label | count |\n",
      "+--------------+-----------------+-------+\n",
      "|   tradebop   |  money-fxdlryen |   1   |\n",
      "|  shipcrude   |    crudeship    |   4   |\n",
      "|   tradebop   |       bop       |   2   |\n",
      "|     tin      |       tin       |   6   |\n",
      "|     gas      |       gas       |   7   |\n",
      "|    rubber    |      rubber     |   5   |\n",
      "|     wpi      |       wpi       |   3   |\n",
      "|     gnp      |   money-fxdlr   |   1   |\n",
      "|     wpi      |   crudenat-gas  |   1   |\n",
      "|     alum     |       alum      |   7   |\n",
      "+--------------+-----------------+-------+\n",
      "[91 rows x 3 columns]\n",
      "Note: Only the head of the SFrame is printed.\n",
      "You can use print_rows(num_rows=m, num_columns=n) to print more rows and columns., 'accuracy': 0.7259414225941423}\n"
     ]
    }
   ],
   "source": [
    "boostedTree_model = graphlab.boosted_trees_classifier.create(train_data, target='X1',\n",
    "                                 max_iterations=2, max_depth = 3)\n",
    "boostedTree_results = boostedTree_model.evaluate(test_data)\n",
    "print boostedTree_results"
   ]
  },
  {
   "cell_type": "code",
   "execution_count": 18,
   "metadata": {
    "collapsed": false
   },
   "outputs": [
    {
     "name": "stdout",
     "output_type": "stream",
     "text": [
      "Canvas is updated and available in a tab in the default browser.\n"
     ]
    }
   ],
   "source": [
    "boostedTree_model.show(view=\"Tree\")"
   ]
  },
  {
   "cell_type": "markdown",
   "metadata": {},
   "source": [
    "<h2>Report</h2>"
   ]
  },
  {
   "cell_type": "markdown",
   "metadata": {},
   "source": [
    "**1. Which classifier(s) can be more useful for this task? (hint: some classifiers can’t be used for this task)?**\n",
    "\n",
    "As can be seen from the above file, I tried to implement all the four classifiers wiz., Support Vector Machines, Nearest Neighbor, Decision Tree and Boosted Decision Tree. All the models gave results except the SVM which is useful only when we are trying to do binary classification which is not the case with the Reuters dataset since it is a multi class dataset. \n",
    "\n",
    "**2. What kind of text representation (A.K.A features for the data) is more useful? Why?**\n",
    "\n",
    "I tried using both the bag of words and the tfidf as features while building the model and found that the resuts using tfidf are better. TF-IDF returns documents that are highly relevant to a particular query rather than just returing all the documents with a threshold frequency, thus making it more accurate than the simple bag of words approach."
   ]
  },
  {
   "cell_type": "markdown",
   "metadata": {},
   "source": [
    "**3. Compare different classifiers' result by comparing model accuracy, auc, precision and recall (which one is the best)?**\n",
    "\n",
    "The following results are taken from the evaluation task performed above using different classifiers and are as follows:"
   ]
  },
  {
   "cell_type": "markdown",
   "metadata": {
    "collapsed": true
   },
   "source": [
    "**Accuracy:**\n",
    "\n",
    "SVM              - NA\n",
    "\n",
    "Nearest Neighbor - 0.6516129032258065\n",
    "\n",
    "Decision Tree    - 0.6882845188284519\n",
    "\n",
    "Boosted Trees    - 0.7259414225941423\n",
    "\n",
    "\n",
    "**AUC:**\n",
    "\n",
    "SVM              - NA\n",
    "\n",
    "Nearest Neighbor - nan\n",
    "\n",
    "Decision Tree    - 0.9339829558136492\n",
    "\n",
    "Boosted Trees    - 0.9691643100936188\n",
    "\n",
    "\n",
    "**Precision:**\n",
    "\n",
    "SVM              - NA\n",
    "\n",
    "Nearest Neighbor - 0.392754736303\n",
    "\n",
    "Decision Tree    - 0.725881796034\n",
    "\n",
    "Boosted Trees    - 0.7794860874122\n",
    "\n",
    "\n",
    "**Recall:**\n",
    "\n",
    "SVM              - NA\n",
    "\n",
    "Nearest Neighbor - 0.295588235294\n",
    "\n",
    "Decision Tree    - 0.6534578839077109\n",
    "\n",
    "Boosted Trees    - 0.677073426381385\n",
    "\n",
    "\n",
    "The above results show that Boosted Decision trees provides us the best result in terms of accuracy. The major advantage of decision trees in general is that they are non parametric which means that they take care of the outliers by themselves. But the main disadvantage is that they easily overfit, boosted decision tress actually rectify this since they are ensemble methods over decision tress. Thus they eliminatet the need of any over tuning, giving better results."
   ]
  },
  {
   "cell_type": "code",
   "execution_count": null,
   "metadata": {
    "collapsed": true
   },
   "outputs": [],
   "source": []
  }
 ],
 "metadata": {
  "kernelspec": {
   "display_name": "Python 2",
   "language": "python",
   "name": "python2"
  },
  "language_info": {
   "codemirror_mode": {
    "name": "ipython",
    "version": 2
   },
   "file_extension": ".py",
   "mimetype": "text/x-python",
   "name": "python",
   "nbconvert_exporter": "python",
   "pygments_lexer": "ipython2",
   "version": "2.7.10"
  }
 },
 "nbformat": 4,
 "nbformat_minor": 0
}
